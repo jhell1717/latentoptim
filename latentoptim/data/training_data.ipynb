{
 "cells": [
  {
   "cell_type": "code",
   "execution_count": 1,
   "metadata": {},
   "outputs": [],
   "source": [
    "import numpy as np\n",
    "from tqdm import tqdm\n",
    "import torch\n",
    "import torch.nn as nn\n",
    "from torch.optim import AdamW\n",
    "import pickle\n",
    "from torch.utils.data import DataLoader\n",
    "import matplotlib.pyplot as plt\n",
    "import vae\n",
    "from shape import Circle, Triangle, NoisyShape, Rectangle, Diamond, Heart, Oval, RotatedShape, Star, Pentagon"
   ]
  },
  {
   "cell_type": "code",
   "execution_count": 2,
   "metadata": {},
   "outputs": [],
   "source": [
    "num_shapes = 5000\n",
    "shapes = []"
   ]
  },
  {
   "cell_type": "code",
   "execution_count": 3,
   "metadata": {},
   "outputs": [
    {
     "name": "stderr",
     "output_type": "stream",
     "text": [
      "100%|██████████| 5000/5000 [00:00<00:00, 9826.93it/s] \n"
     ]
    }
   ],
   "source": [
    "for _ in tqdm(range(num_shapes)):\n",
    "    shape_type = np.random.choice(\n",
    "        ['Circle', 'Triangle', 'Rectangle', 'Diamond', 'Heart', 'Oval', 'Star', 'Pentagon'])\n",
    "\n",
    "    if shape_type == 'Circle':\n",
    "        shape = Circle(n_points=100)\n",
    "\n",
    "    if shape_type == 'Triangle':\n",
    "        shape = Triangle(n_points=100)\n",
    "\n",
    "    if shape_type == 'Rectangle':\n",
    "        shape = Rectangle(n_points=100)\n",
    "\n",
    "\n",
    "    if shape_type == 'Diamond':\n",
    "        shape = Diamond(n_points=100)\n",
    "\n",
    "\n",
    "    if shape_type == 'Heart':\n",
    "        shape = Heart(n_points=100)\n",
    "\n",
    "\n",
    "    if shape_type == 'Star':\n",
    "        shape = Star(n_points=100)\n",
    "\n",
    "\n",
    "    if shape_type == 'Oval':\n",
    "        shape = Oval(n_points=100)\n",
    "\n",
    "\n",
    "    if shape_type == 'Pentagon':\n",
    "        shape = Pentagon(n_points=100)\n",
    "\n",
    "    if np.random.rand() > 0.5:\n",
    "        shape = RotatedShape(shape, max_rotation=360)\n",
    "\n",
    "    if np.random.rand() > 0.7:\n",
    "        noise_fraction = np.random.uniform(0.1, 0.6)\n",
    "        shape = NoisyShape(shape, noise_level=np.random.uniform(\n",
    "            0.01, 0.05), noise_fraction=noise_fraction)\n",
    "    # shape.plot()\n",
    "    # if np.random.rand() > 0.3:\n",
    "    #     shape = Shape.skew(shape.points)\n",
    "\n",
    "    shapes.append(shape)"
   ]
  },
  {
   "cell_type": "code",
   "execution_count": null,
   "metadata": {},
   "outputs": [],
   "source": [
    "with open('/Users/joshuahellewell/Desktop/02-msc/01-modules/MSc Project - 771952/04-data/shapes_dataset.pkl','wb') as f:\n",
    "    pickle.dump(shapes,f)\n",
    "\n",
    "with open(r'/Users/joshuahellewell/Desktop/02-msc/01-modules/MSc Project - 771952/04-data/shapes_dataset.pkl', \"rb\") as f:\n",
    "    shapes = pickle.load(f)"
   ]
  },
  {
   "cell_type": "code",
   "execution_count": 4,
   "metadata": {},
   "outputs": [],
   "source": [
    "dataset = vae.ShapeData(shapes)\n",
    "dataloader = DataLoader(dataset,batch_size=128,shuffle=True)"
   ]
  },
  {
   "cell_type": "code",
   "execution_count": 5,
   "metadata": {},
   "outputs": [],
   "source": [
    "model = vae.VAE(latent_dim=2)"
   ]
  },
  {
   "cell_type": "code",
   "execution_count": null,
   "metadata": {},
   "outputs": [],
   "source": [
    "trainer = vae.Trainer(dataset,model,lr=0.001)"
   ]
  },
  {
   "cell_type": "code",
   "execution_count": 9,
   "metadata": {},
   "outputs": [
    {
     "name": "stdout",
     "output_type": "stream",
     "text": [
      "Epoch 1, Loss: 1.1394378277473152\n",
      "Epoch 2, Loss: 1.2554210210219026\n",
      "Epoch 3, Loss: 1.1376535100862384\n",
      "Epoch 4, Loss: 1.217776458710432\n",
      "Epoch 5, Loss: 1.6796295922249556\n",
      "Epoch 6, Loss: 1.447849036194384\n",
      "Epoch 7, Loss: 1.0859920517541468\n",
      "Epoch 8, Loss: 1.237128479871899\n",
      "Epoch 9, Loss: 1.248043263796717\n",
      "Epoch 10, Loss: 1.3101919260807335\n",
      "Epoch 11, Loss: 1.3529496933333576\n",
      "Epoch 12, Loss: 1.3424429232254624\n",
      "Epoch 13, Loss: 1.5935570122674108\n",
      "Epoch 14, Loss: 1.302533796057105\n",
      "Epoch 15, Loss: 1.1482011727057397\n",
      "Epoch 16, Loss: 1.243322900030762\n",
      "Epoch 17, Loss: 1.1547637153416872\n",
      "Epoch 18, Loss: 1.3960122046992183\n",
      "Epoch 19, Loss: 1.122132862918079\n",
      "Epoch 20, Loss: 1.4681482766754925\n",
      "Epoch 21, Loss: 1.3550490676425397\n",
      "Epoch 22, Loss: 1.5511574540287256\n",
      "Epoch 23, Loss: 1.3473931483458728\n",
      "Epoch 24, Loss: 1.1551601779647171\n",
      "Epoch 25, Loss: 1.2296165148727596\n",
      "Epoch 26, Loss: 1.3906240393407643\n",
      "Epoch 27, Loss: 1.175852901302278\n",
      "Epoch 28, Loss: 1.136399389244616\n",
      "Epoch 29, Loss: 1.4621777040883899\n",
      "Epoch 30, Loss: 1.2013311721384525\n",
      "Epoch 31, Loss: 1.2052546525374055\n",
      "Epoch 32, Loss: 1.1812653485685587\n",
      "Epoch 33, Loss: 1.1013157051056623\n",
      "Epoch 34, Loss: 1.0144007704220712\n",
      "Epoch 35, Loss: 1.1769989095628262\n",
      "Epoch 36, Loss: 1.0638517034240067\n",
      "Epoch 37, Loss: 1.3504226515069604\n",
      "Epoch 38, Loss: 1.3024856792762876\n",
      "Epoch 39, Loss: 1.1140916040167212\n",
      "Epoch 40, Loss: 1.3626434514299035\n",
      "Epoch 41, Loss: 1.1766137182712555\n",
      "Epoch 42, Loss: 1.4635592536069453\n",
      "Epoch 43, Loss: 1.0735398035030812\n",
      "Epoch 44, Loss: 1.2871006540954113\n",
      "Epoch 45, Loss: 1.2833042470738292\n",
      "Epoch 46, Loss: 1.1267735240980983\n",
      "Epoch 47, Loss: 1.3713863333687186\n",
      "Epoch 48, Loss: 1.0999350058846176\n",
      "Epoch 49, Loss: 1.4290605168789625\n",
      "Epoch 50, Loss: 1.1871082978323102\n",
      "Epoch 51, Loss: 1.0966272973455489\n",
      "Epoch 52, Loss: 1.333172533661127\n",
      "Epoch 53, Loss: 1.1707745091989636\n",
      "Epoch 54, Loss: 1.1649894416332245\n",
      "Epoch 55, Loss: 1.325666755437851\n",
      "Epoch 56, Loss: 1.1471229437738657\n",
      "Epoch 57, Loss: 1.4348737196996808\n",
      "Epoch 58, Loss: 1.0071597672067583\n",
      "Epoch 59, Loss: 1.0602873703464866\n",
      "Epoch 60, Loss: 1.037423525005579\n",
      "Epoch 61, Loss: 1.1518950737081468\n",
      "Epoch 62, Loss: 1.0654225181788206\n",
      "Epoch 63, Loss: 1.096664291806519\n",
      "Epoch 64, Loss: 0.9624513173475862\n",
      "Epoch 65, Loss: 1.3360278215259314\n",
      "Epoch 66, Loss: 1.4584348392672837\n",
      "Epoch 67, Loss: 1.287740564905107\n",
      "Epoch 68, Loss: 0.9664112664759159\n",
      "Epoch 69, Loss: 1.1770589901134372\n",
      "Epoch 70, Loss: 0.8496200395748019\n",
      "Epoch 71, Loss: 1.4666661955416203\n",
      "Epoch 72, Loss: 1.0679433764889836\n",
      "Epoch 73, Loss: 1.1486055236309767\n",
      "Epoch 74, Loss: 1.316721479408443\n",
      "Epoch 75, Loss: 1.0997830098494887\n",
      "Epoch 76, Loss: 1.068288921378553\n",
      "Epoch 77, Loss: 1.208941986784339\n",
      "Epoch 78, Loss: 1.2928122603334486\n",
      "Epoch 79, Loss: 1.2097639068961143\n",
      "Epoch 80, Loss: 1.0249515981413424\n",
      "Epoch 81, Loss: 1.1489356639795005\n",
      "Epoch 82, Loss: 1.0011399616487324\n",
      "Epoch 83, Loss: 1.1309688510373235\n",
      "Epoch 84, Loss: 0.8426220866385847\n",
      "Epoch 85, Loss: 1.1158145405352116\n",
      "Epoch 86, Loss: 1.086401672102511\n",
      "Epoch 87, Loss: 0.8729232726618648\n",
      "Epoch 88, Loss: 1.085360776167363\n",
      "Epoch 89, Loss: 1.2907900144346058\n",
      "Epoch 90, Loss: 1.096829199232161\n",
      "Epoch 91, Loss: 1.2645906945690513\n",
      "Epoch 92, Loss: 0.9257992589846253\n",
      "Epoch 93, Loss: 1.3046258070971817\n",
      "Epoch 94, Loss: 0.9568423135206103\n",
      "Epoch 95, Loss: 0.9838044107891619\n",
      "Epoch 96, Loss: 1.056513193063438\n",
      "Epoch 97, Loss: 0.9675819696858525\n",
      "Epoch 98, Loss: 1.0727401627227664\n",
      "Epoch 99, Loss: 1.0064093470573425\n",
      "Epoch 100, Loss: 1.0520519712008536\n"
     ]
    }
   ],
   "source": [
    "trainer.train_model(dataloader,100)"
   ]
  },
  {
   "cell_type": "code",
   "execution_count": 39,
   "metadata": {},
   "outputs": [],
   "source": [
    "model.eval()\n",
    "with torch.no_grad():\n",
    "    z = torch.randn(10,2).to(device)\n",
    "    new_shapes = model.decoder(z).cpu().numpy().reshape(-1,100,2)"
   ]
  },
  {
   "cell_type": "code",
   "execution_count": null,
   "metadata": {},
   "outputs": [],
   "source": [
    "plt.plot(new_shapes[4][:,0],new_shapes[4][:,1])"
   ]
  },
  {
   "cell_type": "code",
   "execution_count": null,
   "metadata": {},
   "outputs": [],
   "source": []
  },
  {
   "cell_type": "code",
   "execution_count": null,
   "metadata": {},
   "outputs": [],
   "source": []
  }
 ],
 "metadata": {
  "kernelspec": {
   "display_name": "VAE",
   "language": "python",
   "name": "python3"
  },
  "language_info": {
   "codemirror_mode": {
    "name": "ipython",
    "version": 3
   },
   "file_extension": ".py",
   "mimetype": "text/x-python",
   "name": "python",
   "nbconvert_exporter": "python",
   "pygments_lexer": "ipython3",
   "version": "3.13.1"
  }
 },
 "nbformat": 4,
 "nbformat_minor": 2
}
