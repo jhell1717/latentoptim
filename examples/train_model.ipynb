{
 "cells": [
  {
   "cell_type": "code",
   "execution_count": 12,
   "metadata": {},
   "outputs": [],
   "source": [
    "from tqdm import tqdm\n",
    "import numpy as np\n",
    "\n",
    "import vae\n",
    "import data"
   ]
  },
  {
   "cell_type": "code",
   "execution_count": 22,
   "metadata": {},
   "outputs": [
    {
     "name": "stderr",
     "output_type": "stream",
     "text": [
      "100%|██████████| 50000/50000 [00:05<00:00, 9999.33it/s] \n"
     ]
    },
    {
     "name": "stdout",
     "output_type": "stream",
     "text": [
      "Epoch 1, Loss: 50283.71984863281\n",
      "Epoch 2, Loss: 45545.5391998291\n",
      "Epoch 3, Loss: 44855.61199951172\n",
      "Epoch 4, Loss: 44438.35205078125\n",
      "Epoch 5, Loss: 44321.52723693848\n",
      "Epoch 6, Loss: 44096.07744598389\n",
      "Epoch 7, Loss: 43506.11180114746\n",
      "Epoch 8, Loss: 43724.78552246094\n",
      "Epoch 9, Loss: 43291.26665496826\n",
      "Epoch 10, Loss: 43277.97491836548\n"
     ]
    }
   ],
   "source": [
    "# Creates shape random shape data.\n",
    "shape_data = data.Generator(50000).generate_shapes()\n",
    "\n",
    "# Creates PyTorch dataset.\n",
    "dataset = vae.ShapeData(shape_data)\n",
    "\n",
    "# Build VAE Model.\n",
    "model = vae.VAE(2)\n",
    "\n",
    "# Initialises model trainer.\n",
    "trainer = vae.Trainer(dataset,model,lr=1e-3,batch_size=129,loss='mse')\n",
    "trainer.train_model()"
   ]
  }
 ],
 "metadata": {
  "kernelspec": {
   "display_name": "VAE",
   "language": "python",
   "name": "python3"
  },
  "language_info": {
   "codemirror_mode": {
    "name": "ipython",
    "version": 3
   },
   "file_extension": ".py",
   "mimetype": "text/x-python",
   "name": "python",
   "nbconvert_exporter": "python",
   "pygments_lexer": "ipython3",
   "version": "3.13.1"
  }
 },
 "nbformat": 4,
 "nbformat_minor": 2
}
