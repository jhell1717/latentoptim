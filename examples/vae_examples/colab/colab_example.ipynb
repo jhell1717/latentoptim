{
 "cells": [
  {
   "cell_type": "markdown",
   "id": "1660cf89",
   "metadata": {},
   "source": [
    "### Import Repo and Install packages:"
   ]
  },
  {
   "cell_type": "code",
   "execution_count": null,
   "id": "a2d63aa1",
   "metadata": {},
   "outputs": [],
   "source": [
    "!git clone https://github.com/jhell1717/latentoptim.git\n",
    "!pip install git+https://github.com/jhell1717/latentoptim.git"
   ]
  },
  {
   "cell_type": "markdown",
   "id": "cb94d958",
   "metadata": {},
   "source": [
    "### Imports\n",
    "* Import standard packages"
   ]
  },
  {
   "cell_type": "code",
   "execution_count": 4,
   "id": "4bb330c4",
   "metadata": {},
   "outputs": [],
   "source": [
    "import os\n",
    "import pickle\n",
    "import torch\n",
    "\n",
    "import vae\n",
    "import data\n",
    "import utils\n",
    "\n",
    "if torch.cuda.is_available():\n",
    "  device = 'cuda'\n",
    "else:\n",
    "  device = 'cpu'"
   ]
  },
  {
   "cell_type": "markdown",
   "id": "14b32dda",
   "metadata": {},
   "source": [
    "### Generate Random Shape Dataset:\n",
    "* User specifies resolution\n",
    "* User specifies number of shapes to generate."
   ]
  },
  {
   "cell_type": "code",
   "execution_count": 7,
   "id": "f4fe7650",
   "metadata": {},
   "outputs": [
    {
     "name": "stderr",
     "output_type": "stream",
     "text": [
      "100%|██████████| 50/50 [00:00<00:00, 4847.67it/s]\n"
     ]
    }
   ],
   "source": [
    "base_dir = r'/Users/joshuahellewell/Desktop/01-dev/latentoptim/examples/vae_examples/colab'\n",
    "# Creates shape random shape data.\n",
    "shape_data = data.Generator(resolution=200,num_shapes=50).generate_shapes()\n",
    "\n",
    "file_path = os.path.join(base_dir,'demo_shapes.pkl'),\n",
    "\n",
    "# Save shape population as .pkl\n",
    "with open(file_path[0], \"wb\") as f:\n",
    "    pickle.dump(shape_data, f)\n",
    "\n",
    "dataset = vae.ShapeData(shape_data) # Create dataset object"
   ]
  },
  {
   "cell_type": "markdown",
   "id": "07b1efb1",
   "metadata": {},
   "source": [
    "### Build VAE Model:\n",
    "* User specifies input size. e.g., 200 nodes x,y = 200*2\n",
    "* User specifies dimension of latent space."
   ]
  },
  {
   "cell_type": "code",
   "execution_count": 8,
   "id": "64e3104c",
   "metadata": {},
   "outputs": [
    {
     "data": {
      "text/plain": [
       "VAE(\n",
       "  (encoder): Sequential(\n",
       "    (0): Linear(in_features=400, out_features=256, bias=True)\n",
       "    (1): ReLU()\n",
       "    (2): Linear(in_features=256, out_features=128, bias=True)\n",
       "    (3): ReLU()\n",
       "  )\n",
       "  (fc_mu): Linear(in_features=128, out_features=2, bias=True)\n",
       "  (fc_logvar): Linear(in_features=128, out_features=2, bias=True)\n",
       "  (decoder): Sequential(\n",
       "    (0): Linear(in_features=2, out_features=128, bias=True)\n",
       "    (1): ReLU()\n",
       "    (2): Linear(in_features=128, out_features=256, bias=True)\n",
       "    (3): ReLU()\n",
       "    (4): Linear(in_features=256, out_features=400, bias=True)\n",
       "  )\n",
       ")"
      ]
     },
     "execution_count": 8,
     "metadata": {},
     "output_type": "execute_result"
    }
   ],
   "source": [
    "model = vae.VAE(input_size=200*2,latent_dim=2) # Create model object\n",
    "model.to(device) # Assign model to GPU if available.\n"
   ]
  },
  {
   "cell_type": "markdown",
   "id": "d2b75eed",
   "metadata": {},
   "source": [
    "### Train VAE Model:\n",
    "* Train the VAE model defined as ```model``` above.\n",
    "* User specifies epochs, batch size and frequency of training checkpoints."
   ]
  },
  {
   "cell_type": "code",
   "execution_count": 9,
   "id": "997d31ad",
   "metadata": {},
   "outputs": [
    {
     "name": "stdout",
     "output_type": "stream",
     "text": [
      "Epoch 1, Loss: 127.71879577636719\n",
      "Epoch 2, Loss: 115.11992645263672\n",
      "Epoch 3, Loss: 150.4302215576172\n",
      "Epoch 4, Loss: 125.54240417480469\n",
      "Epoch 5, Loss: 118.16165161132812\n",
      "Epoch 6, Loss: 88.63081359863281\n",
      "Epoch 7, Loss: 88.73584747314453\n",
      "Epoch 8, Loss: 93.99662017822266\n",
      "Epoch 9, Loss: 51.437137603759766\n",
      "Epoch 10, Loss: 34.556068420410156\n",
      "Epoch 11, Loss: 32.40016174316406\n",
      "Epoch 12, Loss: 39.73217010498047\n",
      "Epoch 13, Loss: 35.53148651123047\n",
      "Epoch 14, Loss: 17.620264053344727\n",
      "Epoch 15, Loss: 102.52208709716797\n",
      "Epoch 16, Loss: 53.87310791015625\n",
      "Epoch 17, Loss: 74.19019317626953\n",
      "Epoch 18, Loss: 24.781841278076172\n",
      "Epoch 19, Loss: 10.709297180175781\n",
      "Epoch 20, Loss: 53.39299774169922\n",
      "Epoch 21, Loss: 38.30174255371094\n",
      "Epoch 22, Loss: 44.18505859375\n",
      "Epoch 23, Loss: 32.49047088623047\n",
      "Epoch 24, Loss: 10.700764656066895\n",
      "Epoch 25, Loss: 63.392459869384766\n",
      "Epoch 26, Loss: 30.066129684448242\n",
      "Epoch 27, Loss: 48.21443557739258\n",
      "Epoch 28, Loss: 54.89834213256836\n",
      "Epoch 29, Loss: 74.781005859375\n",
      "Epoch 30, Loss: 26.347858428955078\n",
      "Epoch 31, Loss: 64.18214416503906\n",
      "Epoch 32, Loss: 28.925315856933594\n",
      "Epoch 33, Loss: 42.505001068115234\n",
      "Epoch 34, Loss: 53.4423942565918\n",
      "Epoch 35, Loss: 15.763385772705078\n",
      "Epoch 36, Loss: 67.5273208618164\n",
      "Epoch 37, Loss: 38.8405876159668\n",
      "Epoch 38, Loss: 11.789545059204102\n",
      "Epoch 39, Loss: 44.500831604003906\n",
      "Epoch 40, Loss: 11.366782188415527\n",
      "Epoch 41, Loss: 39.08735275268555\n",
      "Epoch 42, Loss: 27.790285110473633\n",
      "Epoch 43, Loss: 12.008635520935059\n",
      "Epoch 44, Loss: 23.416379928588867\n",
      "Epoch 45, Loss: 8.603035926818848\n",
      "Epoch 46, Loss: 27.409576416015625\n",
      "Epoch 47, Loss: 69.53170776367188\n",
      "Epoch 48, Loss: 33.263397216796875\n",
      "Epoch 49, Loss: 35.390621185302734\n",
      "Epoch 50, Loss: 38.89545440673828\n",
      "Loss plot saved to /Users/joshuahellewell/Desktop/01-dev/latentoptim/examples/vae_examples/colab/example_model/loss_plot.png\n"
     ]
    }
   ],
   "source": [
    "trainer = vae.Trainer(dataset, model, base_dir=base_dir,\n",
    "                      trained_data=os.path.join(base_dir,'demo_shapes.pkl'), model_name='example_model', batch_size=512)\n",
    "\n",
    "# Train model\n",
    "trainer.train_model(epochs=50,checkpoint_interval=200)"
   ]
  },
  {
   "cell_type": "markdown",
   "id": "249a7273",
   "metadata": {},
   "source": [
    "### Specify Model Details"
   ]
  },
  {
   "cell_type": "code",
   "execution_count": 10,
   "id": "34ea76ef",
   "metadata": {},
   "outputs": [],
   "source": [
    "models = [model] # List of trained models to sample and generate designs.\n",
    "latent_dims = [2] # List of dimensions associated with each latent model."
   ]
  },
  {
   "cell_type": "markdown",
   "id": "327d599e",
   "metadata": {},
   "source": [
    "### Sample Trained VAE Model:"
   ]
  },
  {
   "cell_type": "code",
   "execution_count": 17,
   "id": "9d589821",
   "metadata": {},
   "outputs": [
    {
     "name": "stdout",
     "output_type": "stream",
     "text": [
      "\n",
      " Plotting for latent dimension: 2D\n",
      "  ➤ Generating KDE plot...\n",
      "  ➤ Saving: varying_z1_z2_fixed_.png\n"
     ]
    }
   ],
   "source": [
    "utils.plot_all_latent_combinations(models,latent_dims,vae_metrics=vae.Metrics,shapes_path=os.path.join(base_dir,'demo_shapes.pkl'))"
   ]
  },
  {
   "cell_type": "code",
   "execution_count": null,
   "id": "73dbfe97",
   "metadata": {},
   "outputs": [],
   "source": []
  },
  {
   "cell_type": "code",
   "execution_count": null,
   "id": "4bf336b6",
   "metadata": {},
   "outputs": [],
   "source": []
  }
 ],
 "metadata": {
  "kernelspec": {
   "display_name": "VAE",
   "language": "python",
   "name": "python3"
  },
  "language_info": {
   "codemirror_mode": {
    "name": "ipython",
    "version": 3
   },
   "file_extension": ".py",
   "mimetype": "text/x-python",
   "name": "python",
   "nbconvert_exporter": "python",
   "pygments_lexer": "ipython3",
   "version": "3.13.1"
  }
 },
 "nbformat": 4,
 "nbformat_minor": 5
}
