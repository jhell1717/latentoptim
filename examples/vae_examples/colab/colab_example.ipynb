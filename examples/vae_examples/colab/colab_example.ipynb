{
 "cells": [
  {
   "cell_type": "markdown",
   "id": "1660cf89",
   "metadata": {},
   "source": [
    "### Import Repo and Install packages:"
   ]
  },
  {
   "cell_type": "code",
   "execution_count": null,
   "id": "a2d63aa1",
   "metadata": {},
   "outputs": [],
   "source": [
    "!git clone https://github.com/jhell1717/latentoptim.git\n",
    "!pip install git+https://github.com/jhell1717/latentoptim.git"
   ]
  },
  {
   "cell_type": "markdown",
   "id": "cb94d958",
   "metadata": {},
   "source": [
    "### Imports\n",
    "* Import standard packages"
   ]
  },
  {
   "cell_type": "code",
   "execution_count": 10,
   "id": "4bb330c4",
   "metadata": {},
   "outputs": [],
   "source": [
    "import os\n",
    "import pickle\n",
    "\n",
    "import vae\n",
    "import data\n",
    "import utils\n"
   ]
  },
  {
   "cell_type": "markdown",
   "id": "14b32dda",
   "metadata": {},
   "source": [
    "### Generate Random Shape Dataset:\n",
    "* User specifies resolution\n",
    "* User specifies number of shapes to generate."
   ]
  },
  {
   "cell_type": "code",
   "execution_count": null,
   "id": "f4fe7650",
   "metadata": {},
   "outputs": [
    {
     "name": "stderr",
     "output_type": "stream",
     "text": [
      "100%|██████████| 100000/100000 [00:06<00:00, 15728.52it/s]\n"
     ]
    }
   ],
   "source": [
    "base_dir = r'/content/latentoptim/examples/vae_examples/colab/'\n",
    "# Creates shape random shape data.\n",
    "shape_data = data.Generator(resolution=200,num_shapes=100000).generate_shapes()\n",
    "\n",
    "file_path = os.path.join(base_dir,'demo_shapes.pkl'),\n",
    "\n",
    "# Save shape population as .pkl\n",
    "with open(file_path[0], \"wb\") as f:\n",
    "    pickle.dump(shape_data, f)\n",
    "\n",
    "dataset = vae.ShapeData(shape_data) # Create dataset object"
   ]
  },
  {
   "cell_type": "markdown",
   "id": "07b1efb1",
   "metadata": {},
   "source": [
    "### Build VAE Model:\n",
    "* User specifies input size. e.g., 200 nodes x,y = 200*2\n",
    "* User specifies dimension of latent space."
   ]
  },
  {
   "cell_type": "code",
   "execution_count": null,
   "id": "64e3104c",
   "metadata": {},
   "outputs": [
    {
     "data": {
      "text/plain": [
       "VAE(\n",
       "  (encoder): Sequential(\n",
       "    (0): Linear(in_features=400, out_features=256, bias=True)\n",
       "    (1): ReLU()\n",
       "    (2): Linear(in_features=256, out_features=128, bias=True)\n",
       "    (3): ReLU()\n",
       "  )\n",
       "  (fc_mu): Linear(in_features=128, out_features=2, bias=True)\n",
       "  (fc_logvar): Linear(in_features=128, out_features=2, bias=True)\n",
       "  (decoder): Sequential(\n",
       "    (0): Linear(in_features=2, out_features=128, bias=True)\n",
       "    (1): ReLU()\n",
       "    (2): Linear(in_features=128, out_features=256, bias=True)\n",
       "    (3): ReLU()\n",
       "    (4): Linear(in_features=256, out_features=400, bias=True)\n",
       "  )\n",
       ")"
      ]
     },
     "execution_count": 3,
     "metadata": {},
     "output_type": "execute_result"
    }
   ],
   "source": [
    "model = vae.VAE(input_size=200*2,latent_dim=2) # Create model object\n",
    "model\n"
   ]
  },
  {
   "cell_type": "markdown",
   "id": "d2b75eed",
   "metadata": {},
   "source": [
    "### Train VAE Model:\n",
    "* Train the VAE model defined as ```model``` above.\n",
    "* User specifies epochs, batch size and frequency of training checkpoints."
   ]
  },
  {
   "cell_type": "code",
   "execution_count": 5,
   "id": "997d31ad",
   "metadata": {},
   "outputs": [
    {
     "name": "stdout",
     "output_type": "stream",
     "text": [
      "Epoch 1, Loss: 6861.106241703033\n",
      "Epoch 2, Loss: 3104.447454929352\n",
      "Epoch 3, Loss: 2823.065637111664\n",
      "Epoch 4, Loss: 2910.3953850269318\n",
      "Epoch 5, Loss: 2305.644221305847\n",
      "Epoch 6, Loss: 1931.4289860725403\n",
      "Epoch 7, Loss: 2065.609893321991\n",
      "Epoch 8, Loss: 1853.8795487880707\n",
      "Epoch 9, Loss: 2074.0628077983856\n",
      "Epoch 10, Loss: 1774.7542498111725\n",
      "Epoch 11, Loss: 1648.4772129058838\n",
      "Epoch 12, Loss: 1792.1500163078308\n",
      "Epoch 13, Loss: 1695.2592651844025\n",
      "Epoch 14, Loss: 1670.7751791477203\n",
      "Epoch 15, Loss: 1716.675535917282\n",
      "Epoch 16, Loss: 1788.1094014644623\n",
      "Epoch 17, Loss: 1631.7317955493927\n",
      "Epoch 18, Loss: 1582.3305666446686\n",
      "Epoch 19, Loss: 1636.2549591064453\n",
      "Epoch 20, Loss: 1900.3222818374634\n",
      "Epoch 21, Loss: 1584.6098787784576\n",
      "Epoch 22, Loss: 1719.7484636306763\n",
      "Epoch 23, Loss: 1700.8629546165466\n",
      "Epoch 24, Loss: 1617.4752883911133\n",
      "Epoch 25, Loss: 1463.4531650543213\n",
      "Epoch 26, Loss: 1637.3006687164307\n",
      "Epoch 27, Loss: 1583.9597835540771\n",
      "Epoch 28, Loss: 1559.4100046157837\n",
      "Epoch 29, Loss: 1487.7898280620575\n",
      "Epoch 30, Loss: 1528.1648817062378\n",
      "Epoch 31, Loss: 1529.613979101181\n",
      "Epoch 32, Loss: 1672.6714644432068\n",
      "Epoch 33, Loss: 1509.0043103694916\n",
      "Epoch 34, Loss: 1474.8141083717346\n",
      "Epoch 35, Loss: 1468.6522226333618\n",
      "Epoch 36, Loss: 1517.661824464798\n",
      "Epoch 37, Loss: 1353.8124232292175\n",
      "Epoch 38, Loss: 1495.8615741729736\n",
      "Epoch 39, Loss: 1502.7713856697083\n",
      "Epoch 40, Loss: 1316.674728155136\n",
      "Epoch 41, Loss: 1353.7507572174072\n",
      "Epoch 42, Loss: 1331.8276183605194\n",
      "Epoch 43, Loss: 1318.036233663559\n",
      "Epoch 44, Loss: 1460.5291578769684\n",
      "Epoch 45, Loss: 1445.365103006363\n",
      "Epoch 46, Loss: 1306.582599401474\n",
      "Epoch 47, Loss: 1437.5668003559113\n",
      "Epoch 48, Loss: 1387.674010515213\n",
      "Epoch 49, Loss: 1354.8484201431274\n",
      "Epoch 50, Loss: 1406.4274816513062\n",
      "Loss plot saved to /Users/joshuahellewell/Desktop/01-dev/latentoptim/examples/vae_examples/colab/example_model/loss_plot.png\n"
     ]
    }
   ],
   "source": [
    "trainer = vae.Trainer(dataset, model, base_dir=base_dir,\n",
    "                      trained_data=os.path.join(base_dir,'demo_shapes.pkl'), model_name='example_model', batch_size=512)\n",
    "\n",
    "# Train model\n",
    "trainer.train_model(epochs=50,checkpoint_interval=200)"
   ]
  },
  {
   "cell_type": "markdown",
   "id": "249a7273",
   "metadata": {},
   "source": [
    "### Specify Model Details"
   ]
  },
  {
   "cell_type": "code",
   "execution_count": 8,
   "id": "34ea76ef",
   "metadata": {},
   "outputs": [],
   "source": [
    "models = [model] # List of trained models to sample and generate designs.\n",
    "latent_dims = [2] # List of dimensions associated with each latent model."
   ]
  },
  {
   "cell_type": "markdown",
   "id": "327d599e",
   "metadata": {},
   "source": [
    "### Sample Trained VAE Model:"
   ]
  },
  {
   "cell_type": "code",
   "execution_count": 7,
   "id": "9d589821",
   "metadata": {},
   "outputs": [
    {
     "name": "stdout",
     "output_type": "stream",
     "text": [
      "\n",
      " Plotting for latent dimension: 2D\n",
      "  ➤ Generating KDE plot...\n",
      "  ➤ Saving: varying_z1_z2_fixed_.png\n"
     ]
    }
   ],
   "source": [
    "utils.plot_all_latent_combinations(models,latent_dims,vae_metrics=vae.Metrics,shapes_path=os.path.join(base_dir,'demo_shapes.pkl'))"
   ]
  },
  {
   "cell_type": "code",
   "execution_count": null,
   "id": "73dbfe97",
   "metadata": {},
   "outputs": [],
   "source": []
  }
 ],
 "metadata": {
  "kernelspec": {
   "display_name": "VAE",
   "language": "python",
   "name": "python3"
  },
  "language_info": {
   "codemirror_mode": {
    "name": "ipython",
    "version": 3
   },
   "file_extension": ".py",
   "mimetype": "text/x-python",
   "name": "python",
   "nbconvert_exporter": "python",
   "pygments_lexer": "ipython3",
   "version": "3.13.1"
  }
 },
 "nbformat": 4,
 "nbformat_minor": 5
}
